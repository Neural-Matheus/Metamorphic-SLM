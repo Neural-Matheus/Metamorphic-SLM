{
 "cells": [
  {
   "cell_type": "code",
   "execution_count": null,
   "metadata": {
    "colab": {
     "base_uri": "https://localhost:8080/"
    },
    "executionInfo": {
     "elapsed": 13619,
     "status": "ok",
     "timestamp": 1745852798038,
     "user": {
      "displayName": "BRENO JOSÉ VERGÍLIO",
      "userId": "13439045189148787597"
     },
     "user_tz": 240
    },
    "id": "NUE0zPxRClw7",
    "outputId": "74adc577-4d8c-4f37-acf7-1c707c4fafd4"
   },
   "outputs": [
    {
     "name": "stdout",
     "output_type": "stream",
     "text": [
      "Enter the path to the input CSV file: nemotron.csv\n",
      "Enter the path for the output report (file or folder): /content/output/nemotron_sentiment_mismatches.csv\n",
      "Total pairs checked: 2100\n",
      "Total mismatches found: 693\n",
      "Rows with sentiment mismatch: [47, 106, 107, 108, 109, 110, 111, 112, 113, 114, 115, 116, 117, 118, 119, 120, 121, 122, 123, 124, 125, 126, 150, 151, 154, 157, 158, 159, 161, 163, 167, 193, 215, 218, 229, 230, 231, 253, 254, 255, 256, 257, 258, 259, 260, 261, 262, 263, 264, 265, 266, 267, 268, 269, 270, 271, 272, 273, 297, 302, 364, 400, 401, 402, 403, 404, 405, 406, 407, 408, 409, 410, 411, 412, 413, 414, 415, 416, 417, 418, 419, 420, 424, 444, 445, 463, 464, 465, 466, 467, 468, 469, 470, 471, 472, 473, 474, 475, 476, 477, 478, 479, 480, 481, 482, 483, 484, 485, 486, 488, 489, 490, 491, 492, 493, 494, 495, 496, 497, 498, 499, 500, 501, 502, 503, 504, 507, 509, 511, 513, 514, 516, 518, 519, 522, 568, 569, 570, 571, 572, 573, 574, 575, 576, 577, 578, 579, 580, 581, 582, 583, 584, 585, 586, 587, 588, 611, 631, 637, 648, 652, 658, 659, 660, 661, 662, 664, 666, 667, 670, 671, 672, 694, 695, 705, 718, 719, 720, 727, 728, 730, 733, 734, 735, 736, 737, 738, 739, 740, 741, 742, 743, 744, 745, 746, 747, 748, 749, 750, 751, 752, 753, 754, 755, 756, 757, 758, 759, 761, 762, 764, 765, 766, 768, 769, 770, 773, 774, 775, 777, 778, 780, 781, 782, 785, 786, 788, 790, 791, 792, 793, 794, 795, 805, 806, 811, 828, 845, 849, 855, 857, 862, 863, 864, 865, 866, 867, 868, 869, 870, 871, 872, 873, 874, 875, 876, 877, 878, 879, 880, 881, 883, 884, 885, 887, 888, 889, 892, 893, 895, 896, 897, 898, 899, 901, 902, 903, 919, 920, 921, 923, 925, 932, 934, 936, 941, 943, 944, 945, 967, 968, 969, 970, 971, 972, 973, 974, 975, 976, 977, 978, 979, 980, 981, 982, 983, 984, 985, 986, 987, 1011, 1012, 1093, 1095, 1096, 1097, 1099, 1102, 1104, 1105, 1107, 1108, 1110, 1111, 1113, 1114, 1115, 1116, 1117, 1118, 1119, 1120, 1121, 1122, 1123, 1124, 1125, 1126, 1127, 1128, 1129, 1130, 1131, 1132, 1133, 1134, 1135, 1136, 1137, 1138, 1139, 1140, 1141, 1142, 1143, 1144, 1145, 1147, 1148, 1149, 1150, 1151, 1152, 1153, 1154, 1155, 1156, 1157, 1158, 1159, 1160, 1161, 1162, 1163, 1164, 1165, 1166, 1167, 1168, 1169, 1170, 1171, 1172, 1173, 1174, 1175, 1176, 1178, 1180, 1184, 1188, 1190, 1191, 1196, 1197, 1198, 1199, 1200, 1201, 1202, 1203, 1204, 1205, 1206, 1207, 1208, 1209, 1210, 1211, 1212, 1213, 1214, 1215, 1216, 1217, 1218, 1231, 1238, 1291, 1301, 1304, 1305, 1308, 1310, 1313, 1315, 1330, 1337, 1338, 1342, 1343, 1344, 1377, 1382, 1413, 1418, 1422, 1424, 1466, 1493, 1494, 1500, 1516, 1525, 1534, 1535, 1537, 1538, 1539, 1540, 1541, 1542, 1543, 1544, 1545, 1546, 1547, 1548, 1549, 1550, 1551, 1552, 1553, 1554, 1576, 1577, 1578, 1580, 1583, 1584, 1587, 1593, 1606, 1608, 1618, 1619, 1620, 1621, 1622, 1623, 1624, 1625, 1626, 1627, 1628, 1629, 1630, 1631, 1632, 1633, 1634, 1635, 1636, 1637, 1638, 1713, 1714, 1721, 1724, 1725, 1726, 1727, 1728, 1729, 1730, 1731, 1733, 1734, 1735, 1736, 1737, 1738, 1739, 1740, 1741, 1745, 1748, 1752, 1754, 1755, 1756, 1757, 1758, 1759, 1760, 1763, 1764, 1765, 1766, 1767, 1768, 1769, 1770, 1771, 1772, 1773, 1774, 1775, 1776, 1777, 1778, 1779, 1780, 1781, 1782, 1783, 1784, 1785, 1807, 1808, 1809, 1811, 1812, 1813, 1814, 1815, 1816, 1817, 1818, 1819, 1820, 1821, 1822, 1823, 1824, 1825, 1826, 1827, 1828, 1831, 1851, 1852, 1853, 1854, 1855, 1856, 1857, 1858, 1859, 1860, 1861, 1862, 1863, 1864, 1865, 1866, 1867, 1868, 1869, 1870, 1874, 1875, 1876, 1877, 1878, 1879, 1880, 1881, 1882, 1883, 1884, 1885, 1886, 1887, 1888, 1889, 1890, 1891, 1892, 1893, 1894, 1895, 1896, 1897, 1898, 1899, 1900, 1901, 1902, 1903, 1904, 1905, 1906, 1907, 1908, 1909, 1910, 1911, 1913, 1914, 1915, 1916, 1917, 1918, 1919, 1920, 1922, 1924, 1925, 1926, 1929, 1932, 1934, 1936, 1954, 1955, 1956, 1957, 1958, 1959, 1960, 1961, 1962, 1963, 1964, 1965, 1966, 1967, 1968, 1969, 1970, 1971, 1972, 1973, 1974, 1988, 1989, 1991, 1997, 1998, 1999, 2000, 2001, 2002, 2003, 2004, 2005, 2006, 2009, 2010, 2011, 2012, 2013, 2014, 2015, 2016, 2040, 2067, 2075, 2076, 2088, 2095, 2099]\n",
      "Report with details saved to /content/output/nemotron_sentiment_mismatches.csv\n"
     ]
    }
   ],
   "source": [
    "import os\n",
    "import re\n",
    "import pandas as pd\n",
    "from typing import Optional\n",
    "\n",
    "class SentimentLabelExtractor:\n",
    "    \"\"\"Extracts the sentiment label from a model output string.\"\"\"\n",
    "    _pattern = re.compile(r'\\b(positive|negative|neutral|mixed)\\b', re.IGNORECASE)\n",
    "\n",
    "    @staticmethod\n",
    "    def extract(text: str) -> Optional[str]:\n",
    "        match = SentimentLabelExtractor._pattern.search(text)\n",
    "        return match.group(1).lower() if match else None\n",
    "\n",
    "class FairnessEvaluator:\n",
    "    \"\"\"\n",
    "    Evaluate the Set Equivalence MRT for sentiment:\n",
    "      - saves RowNumber (csv line, starting from 1)\n",
    "      - only compares OriginalLabel x PerturbedLabel\n",
    "    \"\"\"\n",
    "    def __init__(self, df: pd.DataFrame):\n",
    "        self.df = df.copy()\n",
    "\n",
    "    def evaluate(self) -> pd.DataFrame:\n",
    "        records = []\n",
    "        for idx, row in self.df.iterrows():\n",
    "            orig_label = SentimentLabelExtractor.extract(row['OriginalOutput'])\n",
    "            pert_label = SentimentLabelExtractor.extract(row['PerturbedOutput'])\n",
    "            records.append({\n",
    "                'RowNumber':     idx + 1,            # DataFrame row → line\n",
    "                'InputTextID':   row['InputTextID'],\n",
    "                'PerturbationID':row['PerturbationID'],\n",
    "                'OriginalLabel': orig_label,\n",
    "                'PerturbedLabel': pert_label,\n",
    "                'IsEquivalent':  FairnessEvaluator.isEquivalent(orig_label, pert_label)\n",
    "            })\n",
    "        return pd.DataFrame.from_records(records)\n",
    "\n",
    "    @staticmethod\n",
    "    def isEquivalent(orig_label, pert_label):\n",
    "      if((orig_label == \"mixed\" or orig_label == \"neutral\") and (pert_label == \"mixed\" or pert_label == \"neutral\")):\n",
    "        return True\n",
    "\n",
    "      return (orig_label == pert_label)\n",
    "\n",
    "def main(csv_path: str, output_report: str) -> None:\n",
    "    df = pd.read_csv(csv_path)\n",
    "    evaluator = FairnessEvaluator(df)\n",
    "    results = evaluator.evaluate()\n",
    "\n",
    "    # filter where the sentiment has chaged\n",
    "    mismatches = results[~results['IsEquivalent']]\n",
    "    rows = mismatches['RowNumber'].tolist()\n",
    "\n",
    "    print(f\"Total pairs checked: {len(results)}\")\n",
    "    print(f\"Total mismatches found: {len(rows)}\")\n",
    "    print(\"Rows with sentiment mismatch:\", rows)\n",
    "\n",
    "    # optionally saves the result in a csv\n",
    "    if os.path.isdir(output_report):\n",
    "        output_file = os.path.join(output_report, 'sentiment_mismatches.csv')\n",
    "    else:\n",
    "        output_file = output_report if output_report.lower().endswith('.csv') else output_report + '.csv'\n",
    "    os.makedirs(os.path.dirname(output_file), exist_ok=True)\n",
    "\n",
    "    mismatches.to_csv(output_file, index=False)\n",
    "    print(f\"Report with details saved to {output_file}\")\n",
    "\n",
    "if __name__ == '__main__':\n",
    "    path_to_enter = input(\"Enter the path to the input CSV file: \").strip()\n",
    "    path_to_exit  = input(\"Enter the path for the output report (file or folder): \").strip()\n",
    "    main(path_to_enter, path_to_exit)"
   ]
  }
 ],
 "metadata": {
  "accelerator": "GPU",
  "colab": {
   "gpuType": "T4",
   "machine_shape": "hm",
   "provenance": []
  },
  "kernelspec": {
   "display_name": "Python 3 (ipykernel)",
   "language": "python",
   "name": "python3"
  },
  "language_info": {
   "codemirror_mode": {
    "name": "ipython",
    "version": 3
   },
   "file_extension": ".py",
   "mimetype": "text/x-python",
   "name": "python",
   "nbconvert_exporter": "python",
   "pygments_lexer": "ipython3",
   "version": "3.10.12"
  }
 },
 "nbformat": 4,
 "nbformat_minor": 4
}
