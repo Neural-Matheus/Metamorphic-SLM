{
 "cells": [
  {
   "cell_type": "code",
   "execution_count": null,
   "metadata": {
    "id": "MlkHRefjIB8s"
   },
   "outputs": [],
   "source": [
    "def mr_was_broken(df, row_number):\n",
    "    result = df[df['RowNumber'] == row_number]\n",
    "    return True if not result.empty else False"
   ]
  },
  {
   "cell_type": "code",
   "execution_count": null,
   "metadata": {
    "colab": {
     "base_uri": "https://localhost:8080/"
    },
    "executionInfo": {
     "elapsed": 11724,
     "status": "ok",
     "timestamp": 1746042309979,
     "user": {
      "displayName": "BRENO JOSÉ VERGÍLIO",
      "userId": "13439045189148787597"
     },
     "user_tz": 240
    },
    "id": "NUE0zPxRClw7",
    "outputId": "7da50f11-aae0-4a71-8bd9-84292de3c614"
   },
   "outputs": [
    {
     "name": "stdout",
     "output_type": "stream",
     "text": [
      "Enter the path to the input CSV file: nemotron.csv\n",
      "Enter the path for the output report (file or folder): /content/output/nemotron_retrieval_summary_analyze.csv\n",
      "Report with details saved to /content/output/nemotron_retrieval_summary_analyze.csv\n"
     ]
    }
   ],
   "source": [
    "import os\n",
    "import re\n",
    "import pandas as pd\n",
    "from typing import Optional\n",
    "\n",
    "class RetrievalSummaryAnalyzer:\n",
    "    \"\"\"\n",
    "    Analyse the retrieval_summary.csv file and compare with possible MR breaks.\n",
    "    \"\"\"\n",
    "    def __init__(self, sentiment_mismatches: pd.DataFrame):\n",
    "        self.sentiment_mismatches = sentiment_mismatches\n",
    "        self.rs = pd.read_csv('retrieval_summary.csv')\n",
    "\n",
    "    def analyze(self) -> pd.DataFrame:\n",
    "        records = []\n",
    "        for idx, row in self.rs.iterrows():\n",
    "            row_number = idx + 1 # DataFrame row → line\n",
    "            retriever_normal_text_was_toxic = int(row['ToxicCountNormalText']) > 0\n",
    "            retriever_pert_text_was_toxic = int(row['ToxicCountPerturbedText']) > 0\n",
    "\n",
    "            mr_broken = mr_was_broken(self.sentiment_mismatches, row_number)\n",
    "\n",
    "            records.append({\n",
    "                'RowNumber': row_number,\n",
    "                'NormalTextsRetrievedWereToxic': retriever_normal_text_was_toxic,\n",
    "                'PerturbedTextsRetrievedWereToxic': retriever_pert_text_was_toxic,\n",
    "                'MetricRelationWasBroken': mr_broken\n",
    "            })\n",
    "        return pd.DataFrame.from_records(records)\n",
    "\n",
    "\n",
    "def main(csv_path: str, output_report: str) -> None:\n",
    "    sentiment_mismatches = pd.read_csv(csv_path)\n",
    "    analyzer = RetrievalSummaryAnalyzer(sentiment_mismatches)\n",
    "    results = analyzer.analyze()\n",
    "\n",
    "    # save report\n",
    "    if os.path.isdir(output_report):\n",
    "        output_file = os.path.join(output_report, 'retrieval_summary_analyze.csv')\n",
    "    else:\n",
    "        output_file = output_report if output_report.lower().endswith('.csv') else output_report + '.csv'\n",
    "    os.makedirs(os.path.dirname(output_file), exist_ok=True)\n",
    "\n",
    "    results.to_csv(output_file, index=False)\n",
    "    print(f\"Report with details saved to {output_file}\")\n",
    "\n",
    "if __name__ == '__main__':\n",
    "    path_to_enter = input(\"Enter the path to the input CSV file: \").strip()\n",
    "    path_to_exit  = input(\"Enter the path for the output report (file or folder): \").strip()\n",
    "    main(path_to_enter, path_to_exit)"
   ]
  }
 ],
 "metadata": {
  "accelerator": "GPU",
  "colab": {
   "gpuType": "T4",
   "machine_shape": "hm",
   "provenance": []
  },
  "kernelspec": {
   "display_name": "Python 3 (ipykernel)",
   "language": "python",
   "name": "python3"
  },
  "language_info": {
   "codemirror_mode": {
    "name": "ipython",
    "version": 3
   },
   "file_extension": ".py",
   "mimetype": "text/x-python",
   "name": "python",
   "nbconvert_exporter": "python",
   "pygments_lexer": "ipython3",
   "version": "3.10.12"
  }
 },
 "nbformat": 4,
 "nbformat_minor": 4
}
